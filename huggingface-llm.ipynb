{
 "cells": [
  {
   "cell_type": "markdown",
   "metadata": {},
   "source": [
    "### Import necassary libraries"
   ]
  },
  {
   "cell_type": "code",
   "execution_count": 11,
   "metadata": {},
   "outputs": [
    {
     "data": {
      "text/plain": [
       "True"
      ]
     },
     "execution_count": 11,
     "metadata": {},
     "output_type": "execute_result"
    }
   ],
   "source": [
    "import llama_index\n",
    "from llama_index.embeddings import LangchainEmbedding\n",
    "from langchain.embeddings import huggingface as lhf\n",
    "import dotenv\n",
    "from llama_index import download_loader\n",
    "from langchain.embeddings.huggingface import HuggingFaceEmbeddings\n",
    "from llama_index import LangchainEmbedding, ServiceContext\n",
    "from llama_index.node_parser import SimpleNodeParser\n",
    "from llama_index.llms import OpenAI, HuggingFaceLLM\n",
    "\n",
    "from pathlib import Path\n",
    "import os\n",
    "import openai\n",
    "\n",
    "openai.api_key = os.getenv(\"OPENAI_API_KEY\")\n",
    "\n",
    "\n",
    "dotenv.load_dotenv('RAG/.env')"
   ]
  },
  {
   "cell_type": "code",
   "execution_count": 2,
   "metadata": {},
   "outputs": [],
   "source": [
    "# from script import main\n",
    "\n",
    "# index = main()"
   ]
  },
  {
   "cell_type": "markdown",
   "metadata": {},
   "source": [
    "### Set the service context"
   ]
  },
  {
   "cell_type": "code",
   "execution_count": 3,
   "metadata": {},
   "outputs": [
    {
     "name": "stderr",
     "output_type": "stream",
     "text": [
      "d:\\anaconda-envs\\rag-implements\\lib\\site-packages\\tqdm\\auto.py:21: TqdmWarning: IProgress not found. Please update jupyter and ipywidgets. See https://ipywidgets.readthedocs.io/en/stable/user_install.html\n",
      "  from .autonotebook import tqdm as notebook_tqdm\n"
     ]
    }
   ],
   "source": [
    "embed_model = LangchainEmbedding(\n",
    "  HuggingFaceEmbeddings(model_name=\"sentence-transformers/all-mpnet-base-v2\")\n",
    ")\n",
    "llm = OpenAI(temperature=0, model=\"text-davinci-002\")\n",
    "\n",
    "service_context = ServiceContext.from_defaults(embed_model=embed_model, llm=llm)\n",
    "\n"
   ]
  },
  {
   "cell_type": "markdown",
   "metadata": {},
   "source": [
    "### Load the data"
   ]
  },
  {
   "cell_type": "code",
   "execution_count": 4,
   "metadata": {},
   "outputs": [],
   "source": [
    "MarkdownReader = download_loader(\"MarkdownReader\")\n",
    "\n",
    "loader = MarkdownReader()\n",
    "path = os.getenv(\"PATH_DOC\")\n",
    "\n",
    "documents = loader.load_data(file=Path(path))\n",
    "\n"
   ]
  },
  {
   "cell_type": "code",
   "execution_count": 5,
   "metadata": {},
   "outputs": [],
   "source": [
    "path = os.getenv(\"PATH_DOC\")\n",
    "\n",
    "documents = loader.load_data(file=Path(path))\n",
    "\n"
   ]
  },
  {
   "cell_type": "code",
   "execution_count": 6,
   "metadata": {},
   "outputs": [],
   "source": [
    "\n",
    "parser = SimpleNodeParser()\n",
    "\n",
    "nodes = parser.get_nodes_from_documents(documents)\n",
    "\n"
   ]
  },
  {
   "cell_type": "markdown",
   "metadata": {},
   "source": [
    "### Create the index and retriver"
   ]
  },
  {
   "cell_type": "code",
   "execution_count": 7,
   "metadata": {},
   "outputs": [
    {
     "name": "stderr",
     "output_type": "stream",
     "text": [
      "Generating embeddings:   0%|          | 0/26 [00:00<?, ?it/s]"
     ]
    },
    {
     "name": "stderr",
     "output_type": "stream",
     "text": [
      "Generating embeddings: 100%|██████████| 26/26 [00:20<00:00,  1.26it/s]\n"
     ]
    }
   ],
   "source": [
    "from llama_index import (\n",
    "    VectorStoreIndex,\n",
    "    get_response_synthesizer,\n",
    ")\n",
    "from llama_index.indices.vector_store.retrievers import VectorIndexRetriever\n",
    "from llama_index.vector_stores.types import ExactMatchFilter, MetadataFilters\n",
    "\n",
    "index = VectorStoreIndex(nodes=nodes, service_context=service_context,show_progress=True)\n",
    "\n",
    "# retriver:\n",
    "retriever = VectorIndexRetriever(\n",
    "    index=index,\n",
    "    similarity_top_k=3,\n",
    "    vector_store_query_mode=\"default\",\n",
    "    # filters=[ExactMatchFilter(key=\"name\", value=\"paul graham\")],\n",
    "    alpha=None,\n",
    "    doc_ids=None,\n",
    ")\n"
   ]
  },
  {
   "cell_type": "code",
   "execution_count": 8,
   "metadata": {},
   "outputs": [],
   "source": [
    "from llama_index.query_engine.retriever_query_engine import RetrieverQueryEngine\n",
    "\n",
    "query_engine = RetrieverQueryEngine(\n",
    "    retriever=retriever, response_synthesizer=get_response_synthesizer()\n",
    ")\n"
   ]
  },
  {
   "cell_type": "markdown",
   "metadata": {},
   "source": [
    "### Experiments with chat and query"
   ]
  },
  {
   "cell_type": "code",
   "execution_count": 12,
   "metadata": {},
   "outputs": [],
   "source": [
    "response = query_engine.query(\"Help me apply for a aadhar card\")"
   ]
  },
  {
   "cell_type": "code",
   "execution_count": 13,
   "metadata": {},
   "outputs": [
    {
     "data": {
      "text/plain": [
       "Response(response='\\nUnfortunately, we do not provide assistance with applying for an Aadhaar card. You can visit the official website of the Unique Identification Authority of India (UIDAI) to apply for an Aadhaar card.', source_nodes=[NodeWithScore(node=TextNode(id_='6582bad4-13f4-4ff4-bf91-6f8cdb7ac24f', embedding=None, metadata={}, excluded_embed_metadata_keys=[], excluded_llm_metadata_keys=[], relationships={<NodeRelationship.SOURCE: '1'>: RelatedNodeInfo(node_id='a111b233-afb7-4b2e-8641-14ef83a25113', node_type=None, metadata={}, hash='69097c1ac8f6bcf026ec06bd537ec32b6b59464fabe28540d4baa4e52d3d8629')}, hash='1c1ed016b92f68cadc3eeb87a617d8e0df32d9dfb7f5fe4627f345a9adab0fb8', text='- Go to ABC app\\n- Navigate to Services > NRI PAN Card > Link PAN with Aadhaar\\n- Request reissue the required PAN card and make the payment\\n- Our team will reach out to you for the required documents\\n\\nAlternatively, you can also initiate the process on WhatsApp as well.', start_char_idx=0, end_char_idx=269, text_template='{metadata_str}\\n\\n{content}', metadata_template='{key}: {value}', metadata_seperator='\\n'), score=0.49417061783879623), NodeWithScore(node=TextNode(id_='15b44985-e8d5-4a6a-a3ae-cb66b108f9c0', embedding=None, metadata={}, excluded_embed_metadata_keys=[], excluded_llm_metadata_keys=[], relationships={<NodeRelationship.SOURCE: '1'>: RelatedNodeInfo(node_id='21bb23d6-b271-40f9-b314-996888206e79', node_type=None, metadata={}, hash='2f39fddf0aa8595c4ca6553665f2c113b898fc47a05ac900c08030f621fd9cac'), <NodeRelationship.NEXT: '3'>: RelatedNodeInfo(node_id='b58b35de-6082-4740-b39f-789a9a08ba2d', node_type=None, metadata={}, hash='c191acc4adecd5750ceac486ae190a35d2a5508cdd9623be0d776f4776669e05')}, hash='cd14955f345a734f5e674abf09a1d245c0bb8b5bd64c12cf54d42da379cac92c', text=\"I**s it mandatory to link Aadhaar with PAN for NRI?**\\n\\nNo, Aadhaar and PAN linking is optional for NRIs. However, to avoid any legal complications in India, NRIs should either link their PAN to Aadhaar, or update their status as non-resident.\\n\\n**Is PAN card different for NRI?**\\n\\nNo, PAN works completely the same way for both NRI and Resident Indian except for one factor – the type of Application Form alone changes with respect to your current Residential Status. A PAN is mandatory when filing an Income-Tax return,\\xa0TDS\\xa0or any transaction that attracts tax. \\n\\n**Can I apply for pan card from USA?**\\n\\nYes. You can apply for a PAN Card from the USA. The easiest and most convenient way to apply for a PAN card from the USA is through ABC. \\n\\n**Is a PAN card mandatory for an NRI bank account?**\\n\\nNo, in the absence of the Pan Card,\\xa0**NRIs can sign Form 60**\\xa0[Form 60 is a declaration to be filed by an individual or a person (not being a company or firm) who does not have a Permanent Account Number (PAN) and who in involved in any transaction] to open an NRI Account.\\n\\n**Can OCI holders get PAN card?**\\n\\nYes, NRIs who hold foreign citizenship, such as\\xa0OCI\\xa0holders or people of Indian origin who possess foreign citizenship or foreigners who are not of Indian origin, can get PAN card through Form 49AA.\\n\\n**Can an NRI buy property in India without PAN card?**\\n\\nNo, A\\xa0PAN card\\xa0is mandatory to buy property in India. NRIs need a PAN card because they will be required to file income tax returns if they have rented out the property. Besides, if the property is sold later, the capital gains resulting from the sales would be subject to capital gains tax. \\n\\n**What is the difference between an NRI PAN card and normal PAN card?**\\n\\nThere is no difference between an NRI PAN card and normal PAN card. An\\xa0NRI PAN card is the same as a PAN card issued to individuals living in India. However, to apply for a PAN card for OCI or people of Indian origin who hold foreign citizenship, an applicant is required to fill Form 49AA.\\n\\n**Is a PAN card mandatory for NRI?**\\n\\nPAN is not compulsory for all NRIs. A PAN card is mandatory for NRIs with a source of income in India to file their taxes or if they want to invest in stocks or mutual funds in India.\\n\\n**What is the difference between PAN card and Form 60?**\\n\\nThe\\xa0**basic difference**\\xa0between a PAN Card and\\xa0Form 60\\xa0is that you can only sign and use the Form 60 to open a bank account but in order to file taxes and carry out investments from that account, a Pan Card is mandatory.\\n\\n**Can I get a new PAN card as a Canadian citizen?**\\n\\nNo, it is illegal to possess multiple PAN cards. As a Canadian citizen, you cannot obtain a new PAN card. Instead, you should update your citizenship status in the existing PAN card.\\n\\n**Can I perform KYC for my father's mutual funds with an NRI PAN card?**\\n\\nYou can use your NRI PAN card to perform KYC (Know Your Customer) for your father's mutual funds. However, ensuring that your PAN card reflects your updated citizenship status is crucial. You need to complete updating your citizenship in the PAN database before using it for any financial transactions or KYC requirements.\\n\\n**Can the new PAN card be dispatched to my Canadian address?**\\n\\nYes, the PAN card can be delivered to your overseas address, including your Canadian address. While applying for a new PAN card or requesting corrections, you can provide your Canadian address as the delivery address. Make sure to provide accurate and complete address details to ensure successful delivery.\\n\\n**What documents are required for updating citizenship on the PAN card?**\\n\\nTo update your citizenship status, you must provide documents such as your foreign passport, revoked Indian passport (if applicable), and a citizenship renunciation letter (if you have\", start_char_idx=0, end_char_idx=3793, text_template='{metadata_str}\\n\\n{content}', metadata_template='{key}: {value}', metadata_seperator='\\n'), score=0.48082669163658337), NodeWithScore(node=TextNode(id_='ac23f26c-fb42-4a8f-9cad-d5852a32bbbd', embedding=None, metadata={}, excluded_embed_metadata_keys=[], excluded_llm_metadata_keys=[], relationships={<NodeRelationship.SOURCE: '1'>: RelatedNodeInfo(node_id='cb576be7-2fdf-478d-b239-88c951bdaed9', node_type=None, metadata={}, hash='c38bd53df11e4d20825f2da2066f6c0910008093696002dcd2090dc8b7f8cf2e')}, hash='05ebd7a561a53ae734aee0c887e6b13036938d284d877ce9475253a0a9c2bee2', text='1. **If you remember your PAN number:**\\n- Pan number\\n- Passport(Any Country) / OCI Card\\n- Passport Size Photograph\\n- Overseas address proof with zip code (Supporting documents - Indian NRO/NRE Account statement or Overseas bank statement or Utility bill)\\n2. **If you don’t remember your PAN number:**\\nThis gets tricky in most cases so our representative will reach out to you to inform you about the process.\\n\\nDo you remember your PAN card number?', start_char_idx=0, end_char_idx=447, text_template='{metadata_str}\\n\\n{content}', metadata_template='{key}: {value}', metadata_seperator='\\n'), score=0.4657383638574263)], metadata={'6582bad4-13f4-4ff4-bf91-6f8cdb7ac24f': {}, '15b44985-e8d5-4a6a-a3ae-cb66b108f9c0': {}, 'ac23f26c-fb42-4a8f-9cad-d5852a32bbbd': {}})"
      ]
     },
     "execution_count": 13,
     "metadata": {},
     "output_type": "execute_result"
    }
   ],
   "source": [
    "response"
   ]
  },
  {
   "cell_type": "code",
   "execution_count": null,
   "metadata": {},
   "outputs": [
    {
     "data": {
      "text/plain": [
       "0.49417061783879623"
      ]
     },
     "execution_count": 11,
     "metadata": {},
     "output_type": "execute_result"
    }
   ],
   "source": [
    "response.source_nodes[0].score  "
   ]
  },
  {
   "cell_type": "code",
   "execution_count": null,
   "metadata": {},
   "outputs": [],
   "source": [
    "query_engine = index.as_chat_engine(\n",
    "    service_context=service_context, chat_mode=\"react\", verbose=True\n",
    ")\n"
   ]
  },
  {
   "cell_type": "code",
   "execution_count": null,
   "metadata": {},
   "outputs": [],
   "source": [
    "query_engine.chat(\"What documents do I need for a pan card?\")"
   ]
  },
  {
   "cell_type": "code",
   "execution_count": null,
   "metadata": {},
   "outputs": [
    {
     "name": "stdout",
     "output_type": "stream",
     "text": [
      "\u001b[38;5;200m\u001b[1;3mResponse:  Utility bills accepted for PAN card include electricity bills, water bills, telephone bills, gas bills, and broadband bills.\n",
      "\u001b[0m"
     ]
    },
    {
     "data": {
      "text/plain": [
       "AgentChatResponse(response=' Utility bills accepted for PAN card include electricity bills, water bills, telephone bills, gas bills, and broadband bills.', sources=[])"
      ]
     },
     "execution_count": 28,
     "metadata": {},
     "output_type": "execute_result"
    }
   ],
   "source": [
    "query_engine.chat(\"What utility bills are accepted?\")"
   ]
  },
  {
   "cell_type": "code",
   "execution_count": null,
   "metadata": {},
   "outputs": [],
   "source": [
    "import torch\n",
    "\n",
    "# To use open source models for generation, the following code can be used:\n",
    "# Current problem: Stuck at downloading \"shards\"\n",
    "\"\"\"\n",
    "llm = HuggingFaceLLM(\n",
    "    context_window=4096,\n",
    "    max_new_tokens=256,\n",
    "    generate_kwargs={\"temperature\": 0.7, \"do_sample\": False},\n",
    "    tokenizer_name=\"StabilityAI/stablelm-tuned-alpha-3b\",\n",
    "    model_name=\"StabilityAI/stablelm-tuned-alpha-3b\",\n",
    "    device_map=\"auto\",\n",
    "    stopping_ids=[50278, 50279, 50277, 1, 0],\n",
    "    tokenizer_kwargs={\"max_length\": 4096},\n",
    "    # uncomment this if using CUDA to reduce memory usage\n",
    "    model_kwargs={\"torch_dtype\": torch.float16}\n",
    ")\n",
    "service_context = ServiceContext.from_defaults(chunk_size=1024, llm=llm)\n",
    "\"\"\""
   ]
  },
  {
   "cell_type": "code",
   "execution_count": null,
   "metadata": {},
   "outputs": [],
   "source": [
    "chat_engine = index.as_chat_engine(\n",
    "    service_context=service_context, chat_mode=\"react\", verbose=True\n",
    ")"
   ]
  },
  {
   "cell_type": "code",
   "execution_count": null,
   "metadata": {},
   "outputs": [
    {
     "name": "stdout",
     "output_type": "stream",
     "text": [
      "\u001b[38;5;200m\u001b[1;3mThought: I need to use a tool to help me answer the question.\n",
      "Action: query_engine_tool\n",
      "Action Input: {'input': 'What documents do I need for a pan card?'}\n",
      "\u001b[0m\u001b[36;1m\u001b[1;3mObservation: \n",
      "If you have an Aadhaar card, no other document is required. \n",
      "\n",
      "If you don't have an Aadhaar card, you will need:\n",
      "- Passport (Any Country) / OCI Card\n",
      "- Passport Size Photograph\n",
      "- Overseas address proof with zip code (Supporting documents - Indian NRO/NRE Account statement or Overseas bank statement or Utility bill)\n",
      "\u001b[0m\u001b[38;5;200m\u001b[1;3mResponse: To apply for a PAN card, you will need an Aadhaar card or any of the following documents: Passport (Any Country) / OCI Card, Passport Size Photograph, and Overseas address proof with zip code (Supporting documents - Indian NRO/NRE Account statement or Overseas bank statement or Utility bill).\n",
      "\u001b[0m"
     ]
    },
    {
     "data": {
      "text/plain": [
       "AgentChatResponse(response='To apply for a PAN card, you will need an Aadhaar card or any of the following documents: Passport (Any Country) / OCI Card, Passport Size Photograph, and Overseas address proof with zip code (Supporting documents - Indian NRO/NRE Account statement or Overseas bank statement or Utility bill).', sources=[])"
      ]
     },
     "execution_count": 30,
     "metadata": {},
     "output_type": "execute_result"
    }
   ],
   "source": [
    "chat_engine.chat(\"What documents do I need for a pan card?\")"
   ]
  }
 ],
 "metadata": {
  "kernelspec": {
   "display_name": "Python 3",
   "language": "python",
   "name": "python3"
  },
  "language_info": {
   "codemirror_mode": {
    "name": "ipython",
    "version": 3
   },
   "file_extension": ".py",
   "mimetype": "text/x-python",
   "name": "python",
   "nbconvert_exporter": "python",
   "pygments_lexer": "ipython3",
   "version": "3.10.12"
  },
  "orig_nbformat": 4
 },
 "nbformat": 4,
 "nbformat_minor": 2
}
